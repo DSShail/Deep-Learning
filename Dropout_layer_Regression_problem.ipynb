{
  "nbformat": 4,
  "nbformat_minor": 0,
  "metadata": {
    "colab": {
      "private_outputs": true,
      "provenance": [],
      "gpuType": "T4",
      "authorship_tag": "ABX9TyNuo3NKU1WK3adHnQQJK2ri",
      "include_colab_link": true
    },
    "kernelspec": {
      "name": "python3",
      "display_name": "Python 3"
    },
    "language_info": {
      "name": "python"
    },
    "accelerator": "GPU"
  },
  "cells": [
    {
      "cell_type": "markdown",
      "metadata": {
        "id": "view-in-github",
        "colab_type": "text"
      },
      "source": [
        "<a href=\"https://colab.research.google.com/github/DSShail/Deep-Learning/blob/main/Dropout_layer_Regression_problem.ipynb\" target=\"_parent\"><img src=\"https://colab.research.google.com/assets/colab-badge.svg\" alt=\"Open In Colab\"/></a>"
      ]
    },
    {
      "cell_type": "markdown",
      "source": [
        "Dropout is called regularization by randomization"
      ],
      "metadata": {
        "id": "gOHk-yy9fo8c"
      }
    },
    {
      "cell_type": "markdown",
      "source": [
        "**importing libraries**"
      ],
      "metadata": {
        "id": "ZAvuWFgLUk0p"
      }
    },
    {
      "cell_type": "code",
      "execution_count": null,
      "metadata": {
        "id": "7gkqmcryUev9"
      },
      "outputs": [],
      "source": [
        "import tensorflow as tf\n",
        "import numpy as np\n",
        "import matplotlib.pyplot as plt\n",
        "from tensorflow.keras.models import Sequential\n",
        "from tensorflow.keras.layers import Dense\n",
        "from tensorflow.keras.layers import Dropout\n",
        "from tensorflow.keras.optimizers import Adam\n",
        "from sklearn.model_selection import train_test_split\n",
        "from sklearn.metrics import mean_squared_error"
      ]
    },
    {
      "cell_type": "markdown",
      "source": [
        "# Generate Dataset"
      ],
      "metadata": {
        "id": "Znssl08TU-eZ"
      }
    },
    {
      "cell_type": "code",
      "source": [
        "X_train = np.linspace(-1, 1, 20)"
      ],
      "metadata": {
        "id": "RMegMxFzUrj4"
      },
      "execution_count": null,
      "outputs": []
    },
    {
      "cell_type": "code",
      "source": [
        "y_train = np.array([-0.6561 , -0.3099 , -0.59035, -0.50855, -0.285  ,\n",
        "                    -0.2443 , -0.02445,  0.00135, -0.2006 ,  0.07475,\n",
        "                    -0.1422 ,  0.06515,  0.15265,  0.3521 ,  0.28415,\n",
        "                    0.5524 ,  0.23115,  0.20835, 0.4211,  0.60485])"
      ],
      "metadata": {
        "id": "lhAvm3sFVCLG"
      },
      "execution_count": null,
      "outputs": []
    },
    {
      "cell_type": "code",
      "source": [
        "X_test = np.linspace(-1, 1, 20)"
      ],
      "metadata": {
        "id": "jmjYHnm4VE3s"
      },
      "execution_count": null,
      "outputs": []
    },
    {
      "cell_type": "code",
      "source": [
        "y_test = np.array([-0.69415, -0.451  , -0.43005, -0.4484 , -0.1475 ,\n",
        "                   -0.5019 , -0.28055,  0.24595, -0.21425, -0.0286 ,\n",
        "                   0.23415,  0.46575, 0.07955,  0.1973 ,  0.0719 ,\n",
        "                   0.3639 ,  0.5536 ,  0.3365 , 0.50705,  0.33435])"
      ],
      "metadata": {
        "id": "3EEdBezmVG6W"
      },
      "execution_count": null,
      "outputs": []
    },
    {
      "cell_type": "markdown",
      "source": [
        "*scatter plot for the data that we have created*"
      ],
      "metadata": {
        "id": "KsOFBnepVKiX"
      }
    },
    {
      "cell_type": "code",
      "source": [
        "plt.scatter(X_train, y_train, c='red', label='Train')\n",
        "plt.scatter(X_test, y_test, c='blue', label='Test')\n",
        "plt.legend()\n",
        "plt.show()"
      ],
      "metadata": {
        "id": "PDi7SZvcVIO7"
      },
      "execution_count": null,
      "outputs": []
    },
    {
      "cell_type": "markdown",
      "source": [
        "# Regression Model"
      ],
      "metadata": {
        "id": "TtlIKDhobO45"
      }
    },
    {
      "cell_type": "code",
      "source": [
        "model_1=Sequential()\n",
        "model_1.add(Dense(128,input_dim=1,activation='relu'))\n",
        "model_1.add(Dense(128,activation='relu'))\n",
        "model_1.add(Dense(1,activation='linear'))\n",
        "adam=Adam(learning_rate=0.01)\n",
        "\n",
        "model_1.compile(loss='mse',optimizer=adam,metrics=['mse'])\n",
        "\n",
        "history=model_1.fit(X_train,y_train,\n",
        "                    epochs=500,\n",
        "                    validation_data=(X_test,y_test),\n",
        "                    verbose=False)"
      ],
      "metadata": {
        "id": "HCEIvRGHVP9I"
      },
      "execution_count": null,
      "outputs": []
    },
    {
      "cell_type": "code",
      "source": [
        "# evaluate the model\n",
        "_, train_mse = model_1.evaluate(X_train, y_train, verbose=0)\n",
        "_, test_mse = model_1.evaluate(X_test, y_test, verbose=0)\n",
        "print('Train: {}, Test: {}'.format(train_mse, test_mse))"
      ],
      "metadata": {
        "id": "60kjE82jcdmY"
      },
      "execution_count": null,
      "outputs": []
    },
    {
      "cell_type": "code",
      "source": [
        "y_pred_1 = model_1.predict(X_test)"
      ],
      "metadata": {
        "id": "DlDJ-QDydTWZ"
      },
      "execution_count": null,
      "outputs": []
    },
    {
      "cell_type": "code",
      "source": [
        "plt.figure()\n",
        "plt.scatter(X_train, y_train, c='red', label='Train')\n",
        "plt.scatter(X_test, y_test, c='blue', label='Test')\n",
        "plt.plot(X_test, y_pred_1)"
      ],
      "metadata": {
        "id": "pWamsU3AdYEv"
      },
      "execution_count": null,
      "outputs": []
    },
    {
      "cell_type": "markdown",
      "source": [
        "# Dropout Model"
      ],
      "metadata": {
        "id": "FlxGh8QOeJgy"
      }
    },
    {
      "cell_type": "code",
      "source": [
        "model_2 = Sequential()\n",
        "model_2.add(Dense(128, input_dim=1, activation=\"relu\"))\n",
        "model_2.add(Dropout(0.2))\n",
        "model_2.add(Dense(128, activation=\"relu\"))\n",
        "model_2.add(Dropout(0.2))\n",
        "model_2.add(Dense(1, activation=\"linear\"))\n",
        "adam = Adam(learning_rate=0.01)\n",
        "model_2.compile(loss='mse', optimizer=adam, metrics=['mse'])\n",
        "\n",
        "drop_out_history = model_2.fit(X_train, y_train, epochs=500,\n",
        "                               validation_data = (X_test, y_test),\n",
        "                               verbose=False)"
      ],
      "metadata": {
        "id": "KrFklzjqdbwc"
      },
      "execution_count": null,
      "outputs": []
    },
    {
      "cell_type": "code",
      "source": [
        "# evaluate the model\n",
        "_, train_mse = model_2.evaluate(X_train, y_train, verbose=0)\n",
        "_, test_mse = model_2.evaluate(X_test, y_test, verbose=0)\n",
        "print('Train: {}, Test: {}'.format(train_mse, test_mse))"
      ],
      "metadata": {
        "id": "0fTDptsudg0d"
      },
      "execution_count": null,
      "outputs": []
    },
    {
      "cell_type": "code",
      "source": [
        "y_pred_2 = model_2.predict(X_test)"
      ],
      "metadata": {
        "id": "98nuwiDCeV9P"
      },
      "execution_count": null,
      "outputs": []
    },
    {
      "cell_type": "code",
      "source": [
        "plt.figure()\n",
        "plt.scatter(X_train, y_train, c='red', label='Train')\n",
        "plt.scatter(X_test, y_test, c='blue', label='Test')\n",
        "plt.plot(X_test, y_pred_2)\n",
        "plt.legend()\n",
        "plt.ylim((-1.5, 1.5))\n",
        "plt.show()"
      ],
      "metadata": {
        "id": "zCeZFD-4eef0"
      },
      "execution_count": null,
      "outputs": []
    },
    {
      "cell_type": "markdown",
      "source": [
        "# Dropout model- dropout value 0.5"
      ],
      "metadata": {
        "id": "HhWlhuVuf9vY"
      }
    },
    {
      "cell_type": "code",
      "source": [
        "model_3 = Sequential()\n",
        "model_3.add(Dense(128, input_dim=1, activation=\"relu\"))\n",
        "model_3.add(Dropout(0.5))\n",
        "model_3.add(Dense(128, activation=\"relu\"))\n",
        "model_3.add(Dropout(0.5))\n",
        "model_3.add(Dense(1, activation=\"linear\"))\n",
        "adam = Adam(learning_rate=0.01)\n",
        "model_3.compile(loss='mse', optimizer=adam, metrics=['mse'])\n",
        "\n",
        "drop_out_history = model_3.fit(X_train, y_train, epochs=500,\n",
        "                               validation_data = (X_test, y_test),\n",
        "                               verbose=False)\n",
        "\n"
      ],
      "metadata": {
        "id": "bqz_wkD5ef1f"
      },
      "execution_count": null,
      "outputs": []
    },
    {
      "cell_type": "code",
      "source": [
        "# evaluate the model\n",
        "_, train_mse = model_3.evaluate(X_train, y_train, verbose=0)\n",
        "_, test_mse = model_3.evaluate(X_test, y_test, verbose=0)\n",
        "print('Train: {}, Test: {}'.format(train_mse, test_mse))"
      ],
      "metadata": {
        "id": "Z9VvrU5ie2hn"
      },
      "execution_count": null,
      "outputs": []
    },
    {
      "cell_type": "code",
      "source": [
        "y_pred_2 = model_3.predict(X_test)"
      ],
      "metadata": {
        "id": "QepPKT2Le5Am"
      },
      "execution_count": null,
      "outputs": []
    },
    {
      "cell_type": "code",
      "source": [
        "plt.figure()\n",
        "plt.scatter(X_train, y_train, c='red', label='Train')\n",
        "plt.scatter(X_test, y_test, c='blue', label='Test')\n",
        "plt.plot(X_test, y_pred_2)\n",
        "plt.legend()\n",
        "plt.ylim((-1.5, 1.5))\n",
        "plt.show()"
      ],
      "metadata": {
        "id": "k2_Rs4w6fFR6"
      },
      "execution_count": null,
      "outputs": []
    },
    {
      "cell_type": "code",
      "source": [],
      "metadata": {
        "id": "AQIYyxmQfGQ9"
      },
      "execution_count": null,
      "outputs": []
    }
  ]
}