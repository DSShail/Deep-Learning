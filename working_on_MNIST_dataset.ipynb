{
  "nbformat": 4,
  "nbformat_minor": 0,
  "metadata": {
    "colab": {
      "private_outputs": true,
      "provenance": [],
      "gpuType": "T4",
      "authorship_tag": "ABX9TyMqZOe52s4DBh8GmD+o3C8P",
      "include_colab_link": true
    },
    "kernelspec": {
      "name": "python3",
      "display_name": "Python 3"
    },
    "language_info": {
      "name": "python"
    },
    "accelerator": "GPU"
  },
  "cells": [
    {
      "cell_type": "markdown",
      "metadata": {
        "id": "view-in-github",
        "colab_type": "text"
      },
      "source": [
        "<a href=\"https://colab.research.google.com/github/DSShail/Deep-Learning/blob/main/working_on_MNIST_dataset.ipynb\" target=\"_parent\"><img src=\"https://colab.research.google.com/assets/colab-badge.svg\" alt=\"Open In Colab\"/></a>"
      ]
    },
    {
      "cell_type": "code",
      "execution_count": null,
      "metadata": {
        "id": "Ic29IhNFZ_Ma"
      },
      "outputs": [],
      "source": [
        "import tensorflow\n",
        "from tensorflow import keras\n",
        "from tensorflow.keras import Sequential\n",
        "from tensorflow.keras.layers import Dense,Flatten\n",
        "import matplotlib.pyplot as plt"
      ]
    },
    {
      "cell_type": "code",
      "source": [
        "(X_train,y_train),(X_test,y_test)=keras.datasets.mnist.load_data()"
      ],
      "metadata": {
        "id": "pk_xPf1manDD"
      },
      "execution_count": null,
      "outputs": []
    },
    {
      "cell_type": "code",
      "source": [
        "#This is the  pixel values of first image\n",
        "#X_train[0]\n",
        "X_train.shape"
      ],
      "metadata": {
        "id": "54eKNbkZa5Vg"
      },
      "execution_count": null,
      "outputs": []
    },
    {
      "cell_type": "markdown",
      "source": [
        "*plotting the first image of mnist dataset*"
      ],
      "metadata": {
        "id": "3WSvBP3Ac8lR"
      }
    },
    {
      "cell_type": "code",
      "source": [
        "\n",
        "plt.imshow(X_train[0],cmap='twilight',interpolation='nearest')\n",
        "plt.show()"
      ],
      "metadata": {
        "id": "Sgnx35K_a84b"
      },
      "execution_count": null,
      "outputs": []
    },
    {
      "cell_type": "code",
      "source": [
        "X_train[0]"
      ],
      "metadata": {
        "id": "oM8xSatIb1Wu"
      },
      "execution_count": null,
      "outputs": []
    },
    {
      "cell_type": "markdown",
      "source": [
        "we need to convert pixel values into similar range\n",
        "- divide by 255(max value of pixel)"
      ],
      "metadata": {
        "id": "630q5GeqrX37"
      }
    },
    {
      "cell_type": "code",
      "source": [
        "X_train=X_train/255\n",
        "X_test=X_test/255"
      ],
      "metadata": {
        "id": "WIPb7FfKq6kz"
      },
      "execution_count": null,
      "outputs": []
    },
    {
      "cell_type": "code",
      "source": [
        "X_train[0]"
      ],
      "metadata": {
        "id": "i5ZCyPe5rtMh"
      },
      "execution_count": null,
      "outputs": []
    },
    {
      "cell_type": "code",
      "source": [
        "model=Sequential()\n",
        "\n",
        "#our image pixel values are in 28*28- we will convert into a vector of size 784 using Flatten()\n",
        "model.add(Flatten(input_shape=(28,28)))\n",
        "model.add(Dense(128,activation='relu'))\n",
        "model.add(Dense(10,activation='softmax')) # since it is multi-class classification problem therefore we will always use softmax\n",
        "\n"
      ],
      "metadata": {
        "id": "_t17GYLcrv3b"
      },
      "execution_count": null,
      "outputs": []
    },
    {
      "cell_type": "code",
      "source": [
        "model.summary()"
      ],
      "metadata": {
        "id": "wLxrS5HZs3kj"
      },
      "execution_count": null,
      "outputs": []
    },
    {
      "cell_type": "markdown",
      "source": [
        "**There are total 101770 trainable parameters, Howwver in Flatten layer there is no trainable parameter as we are just trying to change the dimension of the image pixel from 28*28(2D matrix)  to 784(vector)**"
      ],
      "metadata": {
        "id": "mOZcxd49tGHh"
      }
    },
    {
      "cell_type": "code",
      "source": [
        "#label one-hot encoding is not need for sparse_categorical_cross_entropy where as in cross_entropy one-hot encoding is required\n",
        "model.compile(loss='sparse_categorical_crossentropy',optimizer='adam',metrics=['accuracy'])"
      ],
      "metadata": {
        "id": "3zylkWm5tDRt"
      },
      "execution_count": null,
      "outputs": []
    },
    {
      "cell_type": "code",
      "source": [
        "model.fit(X_train,y_train,epochs=10,validation_split=0.2)"
      ],
      "metadata": {
        "id": "gt0OhDFtuN6W"
      },
      "execution_count": null,
      "outputs": []
    },
    {
      "cell_type": "code",
      "source": [
        "y_probablity=model.predict(X_test)"
      ],
      "metadata": {
        "id": "7rAYT14sukuf"
      },
      "execution_count": null,
      "outputs": []
    },
    {
      "cell_type": "code",
      "source": [
        "import numpy as np\n",
        "y_pred=np.argmax(y_probablity,axis=1)"
      ],
      "metadata": {
        "id": "cwS7JF8Mvc2c"
      },
      "execution_count": null,
      "outputs": []
    },
    {
      "cell_type": "code",
      "source": [
        "y_pred"
      ],
      "metadata": {
        "id": "HExZLVV9vvMd"
      },
      "execution_count": null,
      "outputs": []
    },
    {
      "cell_type": "code",
      "source": [
        "from sklearn.metrics import accuracy_score\n",
        "accuracy_score(y_test,y_pred)"
      ],
      "metadata": {
        "id": "q7uw1FuIwjI6"
      },
      "execution_count": null,
      "outputs": []
    },
    {
      "cell_type": "markdown",
      "source": [
        "**we have accuracy of 97percent using ANN model- we can achive better accuracy using CNN model**"
      ],
      "metadata": {
        "id": "Eb9-ArY9xDH8"
      }
    },
    {
      "cell_type": "markdown",
      "source": [
        "**Let's bring some changes in the model**\n",
        "1.   add a hiiden layer\n"
      ],
      "metadata": {
        "id": "cAuGUD8vxV9d"
      }
    },
    {
      "cell_type": "code",
      "source": [
        "model=Sequential()\n",
        "\n",
        "#our image pixel values are in 28*28- we will convert into a vector of size 784 using Flatten()\n",
        "model.add(Flatten(input_shape=(28,28)))\n",
        "model.add(Dense(128,activation='relu'))\n",
        "model.add(Dense(32,activation='relu'))\n",
        "model.add(Dense(10,activation='softmax')) # since it is multi-class classification problem therefore we will always use softmax\n",
        "\n",
        "model.summary()\n",
        "#label one-hot encoding is not need for sparse_categorical_cross_entropy where as in cross_entropy one-hot encoding is required\n",
        "model.compile(loss='sparse_categorical_crossentropy',optimizer='adam',metrics=['accuracy'])\n",
        "history=model.fit(X_train,y_train,epochs=25,validation_split=0.2)\n",
        "y_probablity=model.predict(X_test)\n",
        "y_pred=np.argmax(y_probablity,axis=1)\n"
      ],
      "metadata": {
        "id": "oPHnAgdExBs1"
      },
      "execution_count": null,
      "outputs": []
    },
    {
      "cell_type": "markdown",
      "source": [
        "**accuracy between predicted value and test value**"
      ],
      "metadata": {
        "id": "4ijLsGa82c3Y"
      }
    },
    {
      "cell_type": "code",
      "source": [
        "accuracy_score(y_test,y_pred)"
      ],
      "metadata": {
        "id": "lSMUBgoHxv51"
      },
      "execution_count": null,
      "outputs": []
    },
    {
      "cell_type": "markdown",
      "source": [
        "**plot for validation accuracy and accuracy accuracy**"
      ],
      "metadata": {
        "id": "Y1PYPMhr16fc"
      }
    },
    {
      "cell_type": "code",
      "source": [
        "plt.plot(history.history['val_accuracy'])\n",
        "plt.plot(history.history['accuracy'])\n"
      ],
      "metadata": {
        "id": "0uTQkImczJxv"
      },
      "execution_count": null,
      "outputs": []
    },
    {
      "cell_type": "code",
      "source": [],
      "metadata": {
        "id": "7ylVTcumzQvH"
      },
      "execution_count": null,
      "outputs": []
    },
    {
      "cell_type": "markdown",
      "source": [
        "**plot for training loss and validation loss**"
      ],
      "metadata": {
        "id": "qIze08fY2EqP"
      }
    },
    {
      "cell_type": "code",
      "source": [
        "plt.plot(history.history['loss'])\n",
        "plt.plot(history.history['val_loss'])"
      ],
      "metadata": {
        "id": "_5CIJki2zR7Z"
      },
      "execution_count": null,
      "outputs": []
    },
    {
      "cell_type": "code",
      "source": [
        "X_test[0].shape"
      ],
      "metadata": {
        "id": "48-ijTc8zIZS"
      },
      "execution_count": null,
      "outputs": []
    },
    {
      "cell_type": "code",
      "source": [
        "y_test[0]"
      ],
      "metadata": {
        "id": "sB5Bavor20ls"
      },
      "execution_count": null,
      "outputs": []
    },
    {
      "cell_type": "code",
      "source": [
        "plt.imshow(X_test[0])"
      ],
      "metadata": {
        "id": "MWdAMYzk3aBE"
      },
      "execution_count": null,
      "outputs": []
    },
    {
      "cell_type": "code",
      "source": [],
      "metadata": {
        "id": "uEqh6E3l3xFQ"
      },
      "execution_count": null,
      "outputs": []
    }
  ]
}