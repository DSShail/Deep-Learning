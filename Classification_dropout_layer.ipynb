{
  "nbformat": 4,
  "nbformat_minor": 0,
  "metadata": {
    "colab": {
      "private_outputs": true,
      "provenance": [],
      "gpuType": "T4",
      "authorship_tag": "ABX9TyP8ziN1wPKjemrYgkk9/lmH",
      "include_colab_link": true
    },
    "kernelspec": {
      "name": "python3",
      "display_name": "Python 3"
    },
    "language_info": {
      "name": "python"
    },
    "accelerator": "GPU"
  },
  "cells": [
    {
      "cell_type": "markdown",
      "metadata": {
        "id": "view-in-github",
        "colab_type": "text"
      },
      "source": [
        "<a href=\"https://colab.research.google.com/github/DSShail/Deep-Learning/blob/main/Classification_dropout_layer.ipynb\" target=\"_parent\"><img src=\"https://colab.research.google.com/assets/colab-badge.svg\" alt=\"Open In Colab\"/></a>"
      ]
    },
    {
      "cell_type": "markdown",
      "source": [
        "Importing numpy and pyplot library"
      ],
      "metadata": {
        "id": "t7espF3SQR0G"
      }
    },
    {
      "cell_type": "code",
      "execution_count": null,
      "metadata": {
        "id": "RG2R6Afkd0aR"
      },
      "outputs": [],
      "source": [
        "import numpy as np\n",
        "import matplotlib.pyplot as plt"
      ]
    },
    {
      "cell_type": "code",
      "source": [
        "X = np.array([[-1.58986e-01,  4.23977e-01],\n",
        "       [-3.47926e-01,  4.70760e-01],\n",
        "       [-5.04608e-01,  3.53801e-01],\n",
        "       [-5.96774e-01,  1.14035e-01],\n",
        "       [-5.18433e-01, -1.72515e-01],\n",
        "       [-2.92627e-01, -2.07602e-01],\n",
        "       [-1.58986e-01, -4.38596e-02],\n",
        "       [-5.76037e-02,  1.43275e-01],\n",
        "       [-7.14286e-02,  2.71930e-01],\n",
        "       [-2.97235e-01,  3.47953e-01],\n",
        "       [-4.17051e-01,  2.01754e-01],\n",
        "       [-4.40092e-01,  8.77193e-03],\n",
        "       [-3.24885e-01, -3.21637e-02],\n",
        "       [-2.46544e-01,  5.55556e-02],\n",
        "       [-2.18894e-01,  2.01754e-01],\n",
        "       [-3.43318e-01,  1.60819e-01],\n",
        "       [-5.09217e-01,  7.89474e-02],\n",
        "       [-3.84793e-01, -9.06433e-02],\n",
        "       [-1.49770e-01,  1.25731e-01],\n",
        "       [-1.95853e-01,  3.24561e-01],\n",
        "       [-3.91705e-02, -2.19298e-01],\n",
        "       [-1.08295e-01, -3.01170e-01],\n",
        "       [-1.86636e-01, -3.30409e-01],\n",
        "       [-2.18894e-01, -4.23977e-01],\n",
        "       [-8.06452e-02, -5.64327e-01],\n",
        "       [ 6.68203e-02, -5.17544e-01],\n",
        "       [ 9.44700e-02, -3.24561e-01],\n",
        "       [ 1.86636e-01, -1.66667e-01],\n",
        "       [ 6.22120e-02, -7.30994e-02],\n",
        "       [ 2.07373e-02, -1.95906e-01],\n",
        "       [ 2.99539e-02, -3.42105e-01],\n",
        "       [-9.90783e-02, -3.77193e-01],\n",
        "       [-6.91244e-03, -4.64912e-01],\n",
        "       [ 1.31336e-01, -4.29825e-01],\n",
        "       [ 2.32719e-01, -1.95906e-01],\n",
        "       [ 8.52535e-02, -8.47953e-02],\n",
        "       [-1.31336e-01, -2.36842e-01],\n",
        "       [ 2.30415e-03, -1.25731e-01],\n",
        "       [ 1.22120e-01, -2.92398e-03],\n",
        "       [-3.47926e-01, -3.12865e-01],\n",
        "       [-2.28111e-01, -1.25731e-01],\n",
        "       [-7.60369e-02,  1.46199e-02],\n",
        "       [ 4.37788e-02,  2.04678e-02],\n",
        "       [ 1.15207e-02,  1.54971e-01],\n",
        "       [-4.17051e-01, -1.60819e-01],\n",
        "       [-3.15668e-01, -3.18713e-01],\n",
        "       [ 1.26728e-01, -2.19298e-01],\n",
        "       [ 2.05069e-01, -3.12865e-01],\n",
        "       [ 2.18894e-01, -4.59064e-01],\n",
        "       [ 7.14286e-02, -6.46199e-01],\n",
        "       [-1.31336e-01, -6.05263e-01],\n",
        "       [-2.09677e-01, -5.81871e-01],\n",
        "       [-2.28111e-01, -4.29825e-01],\n",
        "       [-1.45161e-01, -4.12281e-01],\n",
        "       [-6.68203e-02, -4.82456e-01],\n",
        "       [ 1.35945e-01, -5.11696e-01],\n",
        "       [ 2.69585e-01, -4.06433e-01],\n",
        "       [ 2.97235e-01, -2.95322e-01],\n",
        "       [ 2.74194e-01, -1.72515e-01],\n",
        "       [ 2.55760e-01, -4.97076e-02],\n",
        "       [ 2.23502e-01, -4.97076e-02],\n",
        "       [ 1.82028e-01, -8.47953e-02],\n",
        "       [ 1.58986e-01, -1.54971e-01],\n",
        "       [ 7.14286e-02, -2.13450e-01],\n",
        "       [ 1.61290e-02, -2.66082e-01],\n",
        "       [-2.53456e-02, -3.83041e-01],\n",
        "       [-1.15207e-02, -4.82456e-01],\n",
        "       [-2.30415e-03, -5.05848e-01],\n",
        "       [ 2.53456e-02, -5.11696e-01],\n",
        "       [ 2.53456e-02, -5.58480e-01],\n",
        "       [ 1.15207e-02, -6.57895e-01],\n",
        "       [-4.83871e-02, -6.46199e-01],\n",
        "       [-8.52535e-02, -5.52632e-01],\n",
        "       [-9.90783e-02, -5.00000e-01],\n",
        "       [-1.61290e-02, -4.23977e-01],\n",
        "       [ 1.31336e-01, -3.59649e-01],\n",
        "       [ 2.23502e-01, -3.71345e-01],\n",
        "       [ 2.92627e-01, -3.01170e-01],\n",
        "       [ 2.60369e-01, -2.07602e-01],\n",
        "       [ 2.00461e-01, -2.25146e-01],\n",
        "       [ 1.72811e-01, -2.71930e-01],\n",
        "       [-1.31336e-01,  9.06433e-02],\n",
        "       [-1.49770e-01,  7.30994e-02],\n",
        "       [-2.41935e-01,  6.14035e-02],\n",
        "       [-3.01843e-01,  1.78363e-01],\n",
        "       [-2.97235e-01,  1.95906e-01],\n",
        "       [-2.74194e-01,  3.07018e-01],\n",
        "       [-3.24885e-01,  2.95322e-01],\n",
        "       [-3.98618e-01,  2.66082e-01],\n",
        "       [-4.35484e-01,  1.60819e-01],\n",
        "       [-4.72350e-01,  7.89474e-02],\n",
        "       [-3.38710e-01,  4.38596e-02],\n",
        "       [-2.69585e-01,  4.38596e-02],\n",
        "       [-2.55760e-01,  1.02339e-01],\n",
        "       [-1.68203e-01,  2.66082e-01],\n",
        "       [-1.12903e-01,  3.01170e-01],\n",
        "       [-3.91705e-02,  3.47953e-01],\n",
        "       [-1.26728e-01,  4.41520e-01],\n",
        "       [-2.32719e-01,  4.41520e-01],\n",
        "       [-3.38710e-01,  4.18129e-01],\n",
        "       [-4.12442e-01,  3.53801e-01],\n",
        "       [-5.09217e-01,  2.19298e-01],\n",
        "       [-5.41475e-01,  1.46199e-02],\n",
        "       [-5.04608e-01, -1.25731e-01],\n",
        "       [-4.90783e-01, -1.43275e-01],\n",
        "       [-3.61751e-01, -1.37427e-01],\n",
        "       [-2.69585e-01, -8.47953e-02],\n",
        "       [-2.23502e-01, -7.89474e-02],\n",
        "       [-1.86636e-01, -3.80117e-02],\n",
        "       [-1.54378e-01, -8.77193e-03],\n",
        "       [-1.12903e-01,  5.55556e-02],\n",
        "       [-8.52535e-02,  1.37427e-01],\n",
        "       [-8.52535e-02,  2.77778e-01],\n",
        "       [-1.68203e-01,  3.01170e-01],\n",
        "       [-1.91244e-01,  1.95906e-01],\n",
        "       [-1.40553e-01, -4.97076e-02],\n",
        "       [-2.99539e-02,  6.72515e-02],\n",
        "       [-2.00461e-01, -2.30994e-01],\n",
        "       [-1.08295e-01, -8.47953e-02],\n",
        "       [ 3.45622e-02,  6.72515e-02],\n",
        "       [ 8.06452e-02,  1.19883e-01],\n",
        "       [-3.85369e-01,  3.30409e-02],\n",
        "       [-3.81221e-01,  1.31287e-01],\n",
        "       [-3.52189e-01,  2.58187e-01],\n",
        "       [-3.54263e-01,  3.64620e-01],\n",
        "       [-4.14401e-01, -6.92982e-02],\n",
        "       [-4.99424e-01, -3.24561e-02],\n",
        "       [-2.98272e-01, -9.79532e-02],\n",
        "       [-3.16935e-01, -1.83918e-01],\n",
        "       [-3.68779e-01, -2.90351e-01],\n",
        "       [-3.56336e-01, -3.96784e-01],\n",
        "       [-2.71313e-01,  4.38596e-03],\n",
        "       [-1.77995e-01,  8.62573e-02],\n",
        "       [-2.46429e-01,  1.43567e-01],\n",
        "       [-2.50576e-01,  2.29532e-01],\n",
        "       [-2.21544e-01,  3.76901e-01],\n",
        "       [-2.15323e-01,  2.95029e-01],\n",
        "       [-1.30300e-01,  2.17251e-01],\n",
        "       [-2.07028e-01,  2.89474e-02],\n",
        "       [-9.71198e-02,  2.13158e-01],\n",
        "       [-3.90553e-02,  2.58187e-01],\n",
        "       [ 1.90092e-02,  4.01462e-01],\n",
        "       [-3.69816e-02,  4.21930e-01],\n",
        "       [-6.39401e-02,  3.31871e-01],\n",
        "       [-1.30300e-01,  3.76901e-01],\n",
        "       [-3.75000e-01, -4.37719e-01],\n",
        "       [-3.95737e-01, -3.51754e-01],\n",
        "       [-3.54263e-01, -2.08480e-01],\n",
        "       [-4.37212e-01, -3.76316e-01],\n",
        "       [-4.80760e-01, -5.03216e-01],\n",
        "       [-4.10253e-01, -4.66374e-01],\n",
        "       [-2.48502e-01, -2.57602e-01],\n",
        "       [-2.27765e-01, -3.14912e-01],\n",
        "       [-2.83756e-01, -3.84503e-01],\n",
        "       [-2.92051e-01, -4.54094e-01],\n",
        "       [-3.37673e-01, -5.19591e-01],\n",
        "       [-2.77535e-01, -5.48246e-01],\n",
        "       [-2.07028e-01, -5.35965e-01],\n",
        "       [-1.86290e-01, -4.78655e-01],\n",
        "       [-1.32373e-01, -5.07310e-01],\n",
        "       [-1.77995e-01, -2.98538e-01],\n",
        "       [-1.65553e-01, -1.75731e-01],\n",
        "       [-1.61406e-01, -1.26608e-01],\n",
        "       [ 3.45622e-04,  2.58187e-01],\n",
        "       [ 7.91475e-02,  3.56433e-01],\n",
        "       [-2.66129e-02,  1.80409e-01],\n",
        "       [-5.35714e-02,  7.80702e-02],\n",
        "       [-1.41705e-02, -5.29240e-02],\n",
        "       [-7.01613e-02, -1.63450e-01],\n",
        "       [-6.39401e-02, -2.94444e-01],\n",
        "       [-3.07604e-02, -4.66374e-01],\n",
        "       [-5.77189e-02, -5.27778e-01],\n",
        "       [-5.35714e-02, -3.96784e-01],\n",
        "       [ 5.21889e-02, -4.17251e-01],\n",
        "       [-1.62442e-02, -1.67544e-01],\n",
        "       [-6.39401e-02, -8.56725e-02],\n",
        "       [-6.18664e-02, -1.60819e-02],\n",
        "       [-3.80184e-03,  4.38596e-03],\n",
        "       [ 4.18203e-02,  2.04971e-01],\n",
        "       [ 7.91475e-02,  1.92690e-01],\n",
        "       [ 4.59677e-02,  2.54094e-01],\n",
        "       [ 1.18548e-01,  1.92690e-01],\n",
        "       [ 1.10253e-01,  8.62573e-02],\n",
        "       [ 1.08180e-01, -6.92982e-02],\n",
        "       [ 1.66244e-01, -2.42690e-02],\n",
        "       [ 1.41359e-01,  6.57895e-02],\n",
        "       [ 1.43433e-01,  1.68129e-01],\n",
        "       [ 1.70392e-01,  1.92690e-01],\n",
        "       [ 1.08180e-01,  2.99123e-01],\n",
        "       [ 1.18548e-01,  3.19591e-01],\n",
        "       [ 1.26843e-01,  3.93275e-01],\n",
        "       [-8.67512e-02,  4.21930e-01],\n",
        "       [-4.73502e-02,  5.07895e-01],\n",
        "       [ 2.52304e-02,  5.20175e-01],\n",
        "       [ 6.25576e-02,  5.52924e-01],\n",
        "       [-5.87558e-03,  4.42398e-01],\n",
        "       [-5.14977e-02,  5.73392e-01],\n",
        "       [-8.05300e-02,  5.07895e-01],\n",
        "       [-1.53111e-01,  5.52924e-01],\n",
        "       [-1.11636e-01,  5.48830e-01],\n",
        "       [-1.63479e-01,  4.91520e-01],\n",
        "       [-2.52650e-01, -1.88012e-01],\n",
        "       [-2.46429e-01, -3.65497e-02],\n",
        "       [-3.21083e-01, -4.33626e-01],\n",
        "       [-3.31452e-01, -6.05556e-01],\n",
        "       [-3.85369e-01, -5.15497e-01],\n",
        "       [-3.99885e-01, -6.21930e-01],\n",
        "       [-1.24078e-01, -1.26608e-01],\n",
        "       [-3.16935e-01, -2.28947e-01],\n",
        "       [-2.94124e-01, -1.34795e-01],\n",
        "       [-1.53111e-01,  1.84503e-01]])"
      ],
      "metadata": {
        "id": "xh_S1njdeHVW"
      },
      "execution_count": null,
      "outputs": []
    },
    {
      "cell_type": "code",
      "source": [
        "y = np.array([1., 1., 1., 1., 1., 1., 1., 1., 1., 1., 1., 1., 1., 1., 1., 1., 1.,\n",
        "       1., 1., 1., 0., 0., 0., 0., 0., 0., 0., 0., 0., 0., 0., 0., 0., 0.,\n",
        "       0., 0., 1., 1., 1., 0., 0., 0., 0., 0., 0., 0., 0., 0., 0., 0., 0.,\n",
        "       0., 0., 0., 0., 0., 0., 0., 0., 0., 0., 0., 0., 0., 0., 0., 0., 0.,\n",
        "       0., 0., 0., 0., 0., 0., 0., 0., 0., 0., 0., 0., 0., 1., 1., 1., 1.,\n",
        "       1., 1., 1., 1., 1., 1., 1., 1., 1., 1., 1., 1., 1., 1., 1., 1., 1.,\n",
        "       1., 1., 1., 1., 1., 1., 1., 1., 1., 1., 1., 1., 1., 1., 1., 0., 0.,\n",
        "       0., 0., 1., 1., 1., 1., 1., 1., 1., 1., 1., 1., 1., 1., 1., 1., 1.,\n",
        "       1., 1., 1., 1., 1., 1., 1., 1., 1., 1., 1., 1., 1., 1., 1., 0., 0.,\n",
        "       0., 0., 0., 0., 0., 0., 0., 0., 0., 0., 0., 0., 0., 0., 0., 0., 0.,\n",
        "       0., 0., 0., 0., 0., 0., 0., 0., 0., 0., 0., 0., 0., 0., 0., 0., 0.,\n",
        "       0., 0., 0., 0., 1., 1., 1., 1., 1., 1., 1., 1., 1., 1., 1., 1., 1.,\n",
        "       0., 1., 1., 1., 1., 0., 0.])"
      ],
      "metadata": {
        "id": "rxM1GDQPeUBi"
      },
      "execution_count": null,
      "outputs": []
    },
    {
      "cell_type": "code",
      "source": [
        "X.shape"
      ],
      "metadata": {
        "id": "VEBC6SP4eW5K"
      },
      "execution_count": null,
      "outputs": []
    },
    {
      "cell_type": "code",
      "source": [
        "y.shape"
      ],
      "metadata": {
        "id": "0a4lTFmZeXqC"
      },
      "execution_count": null,
      "outputs": []
    },
    {
      "cell_type": "code",
      "source": [
        "import matplotlib.pyplot as plt\n",
        "plt.scatter(X[:,0], X[:,1], c=y)\n",
        "plt.show()"
      ],
      "metadata": {
        "id": "a5ilIoqoeZaM"
      },
      "execution_count": null,
      "outputs": []
    },
    {
      "cell_type": "markdown",
      "source": [
        "*importing keras model,layers,optimizers*"
      ],
      "metadata": {
        "id": "6kNZhgbXQgJj"
      }
    },
    {
      "cell_type": "code",
      "source": [
        "from tensorflow.keras.models import Sequential\n",
        "from tensorflow.keras.layers import Dense\n",
        "from tensorflow.keras.layers import Dropout\n",
        "from tensorflow.keras.optimizers import Adam"
      ],
      "metadata": {
        "id": "ywCxMwysemw0"
      },
      "execution_count": null,
      "outputs": []
    },
    {
      "cell_type": "code",
      "source": [
        "model=Sequential()\n",
        "\n",
        "model.add(Dense(128,input_dim=2,activation='relu')) #input layer has 2 inputs\n",
        "model.add(Dense(128,activation='relu')) #hidden layer has 128 nodes and activation function is relu\n",
        "model.add(Dense(1,activation='sigmoid')) # since it is a classification problem there is one output node and activation function is sigmoid"
      ],
      "metadata": {
        "id": "NWO-O76gfNPx"
      },
      "execution_count": null,
      "outputs": []
    },
    {
      "cell_type": "code",
      "source": [
        "adam=Adam(learning_rate=0.01) #optimizer is Adam and learning rate us 0.01\n",
        "model.compile(loss='binary_crossentropy',optimizer=adam,metrics=['accuracy'])\n",
        "history=model.fit(X,y,epochs=500,validation_split=0.2,verbose=1)"
      ],
      "metadata": {
        "id": "DJiKoDH8frIh"
      },
      "execution_count": null,
      "outputs": []
    },
    {
      "cell_type": "markdown",
      "source": [
        "**plotting decision boundary**"
      ],
      "metadata": {
        "id": "unzC5w5ggqDd"
      }
    },
    {
      "cell_type": "code",
      "source": [
        "from mlxtend.plotting import plot_decision_regions\n",
        "plot_decision_regions(X,y.astype('int'),clf=model,legend=2)\n",
        "plt.xlim(-0.7,0.5)\n",
        "plt.ylim(-0.8,0.8)\n",
        "plt.show()"
      ],
      "metadata": {
        "id": "dkxhdSQmgGHR"
      },
      "execution_count": null,
      "outputs": []
    },
    {
      "cell_type": "markdown",
      "source": [
        "*the decision boundary is irregular without dropout layer*"
      ],
      "metadata": {
        "id": "sI2fNfiURPFK"
      }
    },
    {
      "cell_type": "code",
      "source": [
        "plt.plot(history.history['val_loss'],label='validation_loss')\n",
        "plt.plot(history.history['loss'],label='training_loss')\n",
        "plt.legend()"
      ],
      "metadata": {
        "id": "fteN7DJIhxhY"
      },
      "execution_count": null,
      "outputs": []
    },
    {
      "cell_type": "code",
      "source": [
        "plt.plot(history.history['accuracy'],label='accuracy')\n",
        "plt.plot(history.history['val_accuracy'],label='validation_accuracy')\n",
        "plt.legend()"
      ],
      "metadata": {
        "id": "1NEKHmJMiCzH"
      },
      "execution_count": null,
      "outputs": []
    },
    {
      "cell_type": "markdown",
      "source": [
        "**we are creating a model with dropout layers- 0.5**\n",
        "1.  activation function remains same in all the layers\n",
        "2.  Adman optimizer with 0.01 learning rate"
      ],
      "metadata": {
        "id": "HtP9XRBjSVEi"
      }
    },
    {
      "cell_type": "code",
      "source": [
        "model = Sequential()\n",
        "\n",
        "model.add(Dense(128, input_dim=2, activation=\"relu\"))\n",
        "model.add(Dropout(0.5))\n",
        "model.add(Dense(128, activation=\"relu\"))\n",
        "model.add(Dropout(0.5))\n",
        "model.add(Dense(1, activation=\"sigmoid\"))\n",
        "\n",
        "adam = Adam(learning_rate=0.01)\n",
        "model.compile(loss='binary_crossentropy', optimizer=adam, metrics=['accuracy'])\n",
        "\n",
        "history = model.fit(X, y, epochs=500, validation_split = 0.2,verbose=1)"
      ],
      "metadata": {
        "id": "Km83D7qgiLGd"
      },
      "execution_count": null,
      "outputs": []
    },
    {
      "cell_type": "markdown",
      "source": [
        "**validation accuracy has increased to 86 percent from 83(without dropout layer)**"
      ],
      "metadata": {
        "id": "uI1NxWEzS3fq"
      }
    },
    {
      "cell_type": "code",
      "source": [
        "plot_decision_regions(X, y.astype('int'), clf=model, legend=2)\n",
        "plt.xlim(-0.7,0.5)\n",
        "plt.ylim(-0.8,0.8)\n",
        "plt.title('p = 0.5')\n",
        "plt.show()"
      ],
      "metadata": {
        "id": "nNkPIRfiiigw"
      },
      "execution_count": null,
      "outputs": []
    },
    {
      "cell_type": "markdown",
      "source": [
        "*decision boundary is smooth means that the model is trying to avoid overfitting compare to rough decision bounday- when dropout layer was not introduced*"
      ],
      "metadata": {
        "id": "i9OU0tMPTBRe"
      }
    },
    {
      "cell_type": "code",
      "source": [
        "plt.plot(history.history['loss'],label='train_loss')\n",
        "plt.plot(history.history['val_loss'],label='testing_loss')\n",
        "plt.legend()"
      ],
      "metadata": {
        "id": "Wt1QjsqMivvO"
      },
      "execution_count": null,
      "outputs": []
    },
    {
      "cell_type": "code",
      "source": [
        "plt.plot(history.history['accuracy'],label='train_accuracy')\n",
        "plt.plot(history.history['val_accuracy'],label='test_accuracy')\n",
        "plt.legend()"
      ],
      "metadata": {
        "id": "ZmqBVo3Ii2NW"
      },
      "execution_count": null,
      "outputs": []
    },
    {
      "cell_type": "markdown",
      "source": [
        "*using dropout of 0.5 improves the model*\n",
        "\n",
        "*   The graph of accuracy seems stable compare to model without dropout layer\n",
        "*   The validation accuracy has increased to 90 from 81\n",
        "\n"
      ],
      "metadata": {
        "id": "BTgpeW1Njac8"
      }
    },
    {
      "cell_type": "markdown",
      "source": [
        "p is dropout ratio\n",
        "1. p less means overfitting- then p value should be increased\n",
        "2. p more- underfitting then p value should be decreased\n",
        "3. trying drooput layer starting with last layer then mode inward towards input layer\n",
        "**Drawbacks of dropout layer**\n",
        "1.   training is slow- convergence takes time\n",
        "2.   loss functions keeps varing so the gradient calculation becomes difficult\n",
        "\n"
      ],
      "metadata": {
        "id": "narA4_OTgin1"
      }
    },
    {
      "cell_type": "code",
      "source": [],
      "metadata": {
        "id": "cujR12LGjK2D"
      },
      "execution_count": null,
      "outputs": []
    }
  ]
}